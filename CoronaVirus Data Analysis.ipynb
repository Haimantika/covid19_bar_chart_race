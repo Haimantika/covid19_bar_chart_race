{
 "cells": [
  {
   "cell_type": "markdown",
   "metadata": {},
   "source": [
    "<h1>Corona Virus Data Analysis</h1>"
   ]
  },
  {
   "cell_type": "code",
   "execution_count": 142,
   "metadata": {},
   "outputs": [],
   "source": [
    "import pandas as pd\n",
    "import matplotlib.pyplot as plt\n",
    "%matplotlib inline"
   ]
  },
  {
   "cell_type": "code",
   "execution_count": 143,
   "metadata": {},
   "outputs": [],
   "source": [
    "corona = pd.read_csv(\"covid_19_data.csv\",parse_dates=[\"ObservationDate\"])"
   ]
  },
  {
   "cell_type": "code",
   "execution_count": 144,
   "metadata": {},
   "outputs": [
    {
     "data": {
      "text/html": [
       "<div>\n",
       "<style scoped>\n",
       "    .dataframe tbody tr th:only-of-type {\n",
       "        vertical-align: middle;\n",
       "    }\n",
       "\n",
       "    .dataframe tbody tr th {\n",
       "        vertical-align: top;\n",
       "    }\n",
       "\n",
       "    .dataframe thead th {\n",
       "        text-align: right;\n",
       "    }\n",
       "</style>\n",
       "<table border=\"1\" class=\"dataframe\">\n",
       "  <thead>\n",
       "    <tr style=\"text-align: right;\">\n",
       "      <th></th>\n",
       "      <th>SNo</th>\n",
       "      <th>ObservationDate</th>\n",
       "      <th>Province/State</th>\n",
       "      <th>Country/Region</th>\n",
       "      <th>Last Update</th>\n",
       "      <th>Confirmed</th>\n",
       "      <th>Deaths</th>\n",
       "      <th>Recovered</th>\n",
       "    </tr>\n",
       "  </thead>\n",
       "  <tbody>\n",
       "    <tr>\n",
       "      <th>0</th>\n",
       "      <td>1</td>\n",
       "      <td>2020-01-22</td>\n",
       "      <td>Anhui</td>\n",
       "      <td>Mainland China</td>\n",
       "      <td>1/22/2020 17:00</td>\n",
       "      <td>1.0</td>\n",
       "      <td>0.0</td>\n",
       "      <td>0.0</td>\n",
       "    </tr>\n",
       "    <tr>\n",
       "      <th>1</th>\n",
       "      <td>2</td>\n",
       "      <td>2020-01-22</td>\n",
       "      <td>Beijing</td>\n",
       "      <td>Mainland China</td>\n",
       "      <td>1/22/2020 17:00</td>\n",
       "      <td>14.0</td>\n",
       "      <td>0.0</td>\n",
       "      <td>0.0</td>\n",
       "    </tr>\n",
       "    <tr>\n",
       "      <th>2</th>\n",
       "      <td>3</td>\n",
       "      <td>2020-01-22</td>\n",
       "      <td>Chongqing</td>\n",
       "      <td>Mainland China</td>\n",
       "      <td>1/22/2020 17:00</td>\n",
       "      <td>6.0</td>\n",
       "      <td>0.0</td>\n",
       "      <td>0.0</td>\n",
       "    </tr>\n",
       "    <tr>\n",
       "      <th>3</th>\n",
       "      <td>4</td>\n",
       "      <td>2020-01-22</td>\n",
       "      <td>Fujian</td>\n",
       "      <td>Mainland China</td>\n",
       "      <td>1/22/2020 17:00</td>\n",
       "      <td>1.0</td>\n",
       "      <td>0.0</td>\n",
       "      <td>0.0</td>\n",
       "    </tr>\n",
       "    <tr>\n",
       "      <th>4</th>\n",
       "      <td>5</td>\n",
       "      <td>2020-01-22</td>\n",
       "      <td>Gansu</td>\n",
       "      <td>Mainland China</td>\n",
       "      <td>1/22/2020 17:00</td>\n",
       "      <td>0.0</td>\n",
       "      <td>0.0</td>\n",
       "      <td>0.0</td>\n",
       "    </tr>\n",
       "  </tbody>\n",
       "</table>\n",
       "</div>"
      ],
      "text/plain": [
       "   SNo ObservationDate Province/State  Country/Region      Last Update  \\\n",
       "0    1      2020-01-22          Anhui  Mainland China  1/22/2020 17:00   \n",
       "1    2      2020-01-22        Beijing  Mainland China  1/22/2020 17:00   \n",
       "2    3      2020-01-22      Chongqing  Mainland China  1/22/2020 17:00   \n",
       "3    4      2020-01-22         Fujian  Mainland China  1/22/2020 17:00   \n",
       "4    5      2020-01-22          Gansu  Mainland China  1/22/2020 17:00   \n",
       "\n",
       "   Confirmed  Deaths  Recovered  \n",
       "0        1.0     0.0        0.0  \n",
       "1       14.0     0.0        0.0  \n",
       "2        6.0     0.0        0.0  \n",
       "3        1.0     0.0        0.0  \n",
       "4        0.0     0.0        0.0  "
      ]
     },
     "execution_count": 144,
     "metadata": {},
     "output_type": "execute_result"
    }
   ],
   "source": [
    "corona.head()"
   ]
  },
  {
   "cell_type": "markdown",
   "metadata": {},
   "source": [
    "<h3>The 'SNo' seems to be an unncessary column. So I dropped it.</h3>"
   ]
  },
  {
   "cell_type": "code",
   "execution_count": 145,
   "metadata": {},
   "outputs": [],
   "source": [
    "corona = corona.drop(['SNo'],axis=1)"
   ]
  },
  {
   "cell_type": "code",
   "execution_count": 146,
   "metadata": {},
   "outputs": [
    {
     "data": {
      "text/html": [
       "<div>\n",
       "<style scoped>\n",
       "    .dataframe tbody tr th:only-of-type {\n",
       "        vertical-align: middle;\n",
       "    }\n",
       "\n",
       "    .dataframe tbody tr th {\n",
       "        vertical-align: top;\n",
       "    }\n",
       "\n",
       "    .dataframe thead th {\n",
       "        text-align: right;\n",
       "    }\n",
       "</style>\n",
       "<table border=\"1\" class=\"dataframe\">\n",
       "  <thead>\n",
       "    <tr style=\"text-align: right;\">\n",
       "      <th></th>\n",
       "      <th>ObservationDate</th>\n",
       "      <th>Province/State</th>\n",
       "      <th>Country/Region</th>\n",
       "      <th>Last Update</th>\n",
       "      <th>Confirmed</th>\n",
       "      <th>Deaths</th>\n",
       "      <th>Recovered</th>\n",
       "    </tr>\n",
       "  </thead>\n",
       "  <tbody>\n",
       "    <tr>\n",
       "      <th>2105</th>\n",
       "      <td>2020-02-22</td>\n",
       "      <td>Orange, CA</td>\n",
       "      <td>US</td>\n",
       "      <td>2020-02-01T19:53:03</td>\n",
       "      <td>1.0</td>\n",
       "      <td>0.0</td>\n",
       "      <td>0.0</td>\n",
       "    </tr>\n",
       "    <tr>\n",
       "      <th>2106</th>\n",
       "      <td>2020-02-22</td>\n",
       "      <td>Sacramento County, CA</td>\n",
       "      <td>US</td>\n",
       "      <td>2020-02-21T23:13:16</td>\n",
       "      <td>1.0</td>\n",
       "      <td>0.0</td>\n",
       "      <td>0.0</td>\n",
       "    </tr>\n",
       "    <tr>\n",
       "      <th>2107</th>\n",
       "      <td>2020-02-22</td>\n",
       "      <td>San Antonio, TX</td>\n",
       "      <td>US</td>\n",
       "      <td>2020-02-13T18:53:02</td>\n",
       "      <td>1.0</td>\n",
       "      <td>0.0</td>\n",
       "      <td>0.0</td>\n",
       "    </tr>\n",
       "    <tr>\n",
       "      <th>2108</th>\n",
       "      <td>2020-02-22</td>\n",
       "      <td>Seattle, WA</td>\n",
       "      <td>US</td>\n",
       "      <td>2020-02-09T07:03:04</td>\n",
       "      <td>1.0</td>\n",
       "      <td>0.0</td>\n",
       "      <td>1.0</td>\n",
       "    </tr>\n",
       "    <tr>\n",
       "      <th>2109</th>\n",
       "      <td>2020-02-22</td>\n",
       "      <td>Tempe, AZ</td>\n",
       "      <td>US</td>\n",
       "      <td>2020-02-01T19:43:03</td>\n",
       "      <td>1.0</td>\n",
       "      <td>0.0</td>\n",
       "      <td>0.0</td>\n",
       "    </tr>\n",
       "  </tbody>\n",
       "</table>\n",
       "</div>"
      ],
      "text/plain": [
       "     ObservationDate         Province/State Country/Region  \\\n",
       "2105      2020-02-22             Orange, CA             US   \n",
       "2106      2020-02-22  Sacramento County, CA             US   \n",
       "2107      2020-02-22        San Antonio, TX             US   \n",
       "2108      2020-02-22            Seattle, WA             US   \n",
       "2109      2020-02-22              Tempe, AZ             US   \n",
       "\n",
       "              Last Update  Confirmed  Deaths  Recovered  \n",
       "2105  2020-02-01T19:53:03        1.0     0.0        0.0  \n",
       "2106  2020-02-21T23:13:16        1.0     0.0        0.0  \n",
       "2107  2020-02-13T18:53:02        1.0     0.0        0.0  \n",
       "2108  2020-02-09T07:03:04        1.0     0.0        1.0  \n",
       "2109  2020-02-01T19:43:03        1.0     0.0        0.0  "
      ]
     },
     "execution_count": 146,
     "metadata": {},
     "output_type": "execute_result"
    }
   ],
   "source": [
    "corona.tail()"
   ]
  },
  {
   "cell_type": "code",
   "execution_count": 147,
   "metadata": {},
   "outputs": [
    {
     "data": {
      "text/html": [
       "<div>\n",
       "<style scoped>\n",
       "    .dataframe tbody tr th:only-of-type {\n",
       "        vertical-align: middle;\n",
       "    }\n",
       "\n",
       "    .dataframe tbody tr th {\n",
       "        vertical-align: top;\n",
       "    }\n",
       "\n",
       "    .dataframe thead th {\n",
       "        text-align: right;\n",
       "    }\n",
       "</style>\n",
       "<table border=\"1\" class=\"dataframe\">\n",
       "  <thead>\n",
       "    <tr style=\"text-align: right;\">\n",
       "      <th></th>\n",
       "      <th>ObservationDate</th>\n",
       "      <th>Province/State</th>\n",
       "      <th>Country/Region</th>\n",
       "      <th>Last Update</th>\n",
       "      <th>Confirmed</th>\n",
       "      <th>Deaths</th>\n",
       "      <th>Recovered</th>\n",
       "    </tr>\n",
       "  </thead>\n",
       "  <tbody>\n",
       "    <tr>\n",
       "      <th>count</th>\n",
       "      <td>2110</td>\n",
       "      <td>1534</td>\n",
       "      <td>2110</td>\n",
       "      <td>2110</td>\n",
       "      <td>2110.000000</td>\n",
       "      <td>2110.000000</td>\n",
       "      <td>2110.000000</td>\n",
       "    </tr>\n",
       "    <tr>\n",
       "      <th>unique</th>\n",
       "      <td>32</td>\n",
       "      <td>71</td>\n",
       "      <td>37</td>\n",
       "      <td>609</td>\n",
       "      <td>NaN</td>\n",
       "      <td>NaN</td>\n",
       "      <td>NaN</td>\n",
       "    </tr>\n",
       "    <tr>\n",
       "      <th>top</th>\n",
       "      <td>2020-02-21 00:00:00</td>\n",
       "      <td>Jilin</td>\n",
       "      <td>Mainland China</td>\n",
       "      <td>1/31/2020 23:59</td>\n",
       "      <td>NaN</td>\n",
       "      <td>NaN</td>\n",
       "      <td>NaN</td>\n",
       "    </tr>\n",
       "    <tr>\n",
       "      <th>freq</th>\n",
       "      <td>84</td>\n",
       "      <td>32</td>\n",
       "      <td>986</td>\n",
       "      <td>62</td>\n",
       "      <td>NaN</td>\n",
       "      <td>NaN</td>\n",
       "      <td>NaN</td>\n",
       "    </tr>\n",
       "    <tr>\n",
       "      <th>first</th>\n",
       "      <td>2020-01-22 00:00:00</td>\n",
       "      <td>NaN</td>\n",
       "      <td>NaN</td>\n",
       "      <td>NaN</td>\n",
       "      <td>NaN</td>\n",
       "      <td>NaN</td>\n",
       "      <td>NaN</td>\n",
       "    </tr>\n",
       "    <tr>\n",
       "      <th>last</th>\n",
       "      <td>2020-02-22 00:00:00</td>\n",
       "      <td>NaN</td>\n",
       "      <td>NaN</td>\n",
       "      <td>NaN</td>\n",
       "      <td>NaN</td>\n",
       "      <td>NaN</td>\n",
       "      <td>NaN</td>\n",
       "    </tr>\n",
       "    <tr>\n",
       "      <th>mean</th>\n",
       "      <td>NaN</td>\n",
       "      <td>NaN</td>\n",
       "      <td>NaN</td>\n",
       "      <td>NaN</td>\n",
       "      <td>538.973460</td>\n",
       "      <td>13.546919</td>\n",
       "      <td>78.179147</td>\n",
       "    </tr>\n",
       "    <tr>\n",
       "      <th>std</th>\n",
       "      <td>NaN</td>\n",
       "      <td>NaN</td>\n",
       "      <td>NaN</td>\n",
       "      <td>NaN</td>\n",
       "      <td>4443.023939</td>\n",
       "      <td>139.516579</td>\n",
       "      <td>656.982337</td>\n",
       "    </tr>\n",
       "    <tr>\n",
       "      <th>min</th>\n",
       "      <td>NaN</td>\n",
       "      <td>NaN</td>\n",
       "      <td>NaN</td>\n",
       "      <td>NaN</td>\n",
       "      <td>0.000000</td>\n",
       "      <td>0.000000</td>\n",
       "      <td>0.000000</td>\n",
       "    </tr>\n",
       "    <tr>\n",
       "      <th>25%</th>\n",
       "      <td>NaN</td>\n",
       "      <td>NaN</td>\n",
       "      <td>NaN</td>\n",
       "      <td>NaN</td>\n",
       "      <td>2.000000</td>\n",
       "      <td>0.000000</td>\n",
       "      <td>0.000000</td>\n",
       "    </tr>\n",
       "    <tr>\n",
       "      <th>50%</th>\n",
       "      <td>NaN</td>\n",
       "      <td>NaN</td>\n",
       "      <td>NaN</td>\n",
       "      <td>NaN</td>\n",
       "      <td>12.000000</td>\n",
       "      <td>0.000000</td>\n",
       "      <td>1.000000</td>\n",
       "    </tr>\n",
       "    <tr>\n",
       "      <th>75%</th>\n",
       "      <td>NaN</td>\n",
       "      <td>NaN</td>\n",
       "      <td>NaN</td>\n",
       "      <td>NaN</td>\n",
       "      <td>119.000000</td>\n",
       "      <td>0.000000</td>\n",
       "      <td>12.000000</td>\n",
       "    </tr>\n",
       "    <tr>\n",
       "      <th>max</th>\n",
       "      <td>NaN</td>\n",
       "      <td>NaN</td>\n",
       "      <td>NaN</td>\n",
       "      <td>NaN</td>\n",
       "      <td>64084.000000</td>\n",
       "      <td>2346.000000</td>\n",
       "      <td>15299.000000</td>\n",
       "    </tr>\n",
       "  </tbody>\n",
       "</table>\n",
       "</div>"
      ],
      "text/plain": [
       "            ObservationDate Province/State  Country/Region      Last Update  \\\n",
       "count                  2110           1534            2110             2110   \n",
       "unique                   32             71              37              609   \n",
       "top     2020-02-21 00:00:00          Jilin  Mainland China  1/31/2020 23:59   \n",
       "freq                     84             32             986               62   \n",
       "first   2020-01-22 00:00:00            NaN             NaN              NaN   \n",
       "last    2020-02-22 00:00:00            NaN             NaN              NaN   \n",
       "mean                    NaN            NaN             NaN              NaN   \n",
       "std                     NaN            NaN             NaN              NaN   \n",
       "min                     NaN            NaN             NaN              NaN   \n",
       "25%                     NaN            NaN             NaN              NaN   \n",
       "50%                     NaN            NaN             NaN              NaN   \n",
       "75%                     NaN            NaN             NaN              NaN   \n",
       "max                     NaN            NaN             NaN              NaN   \n",
       "\n",
       "           Confirmed       Deaths     Recovered  \n",
       "count    2110.000000  2110.000000   2110.000000  \n",
       "unique           NaN          NaN           NaN  \n",
       "top              NaN          NaN           NaN  \n",
       "freq             NaN          NaN           NaN  \n",
       "first            NaN          NaN           NaN  \n",
       "last             NaN          NaN           NaN  \n",
       "mean      538.973460    13.546919     78.179147  \n",
       "std      4443.023939   139.516579    656.982337  \n",
       "min         0.000000     0.000000      0.000000  \n",
       "25%         2.000000     0.000000      0.000000  \n",
       "50%        12.000000     0.000000      1.000000  \n",
       "75%       119.000000     0.000000     12.000000  \n",
       "max     64084.000000  2346.000000  15299.000000  "
      ]
     },
     "execution_count": 147,
     "metadata": {},
     "output_type": "execute_result"
    }
   ],
   "source": [
    "corona.describe(include='all')"
   ]
  },
  {
   "cell_type": "code",
   "execution_count": 148,
   "metadata": {
    "scrolled": true
   },
   "outputs": [],
   "source": [
    "corona.rename({'Province/State':'Province','Country/Region':'Country'},axis=1,inplace=True)"
   ]
  },
  {
   "cell_type": "code",
   "execution_count": 149,
   "metadata": {},
   "outputs": [
    {
     "data": {
      "text/html": [
       "<div>\n",
       "<style scoped>\n",
       "    .dataframe tbody tr th:only-of-type {\n",
       "        vertical-align: middle;\n",
       "    }\n",
       "\n",
       "    .dataframe tbody tr th {\n",
       "        vertical-align: top;\n",
       "    }\n",
       "\n",
       "    .dataframe thead th {\n",
       "        text-align: right;\n",
       "    }\n",
       "</style>\n",
       "<table border=\"1\" class=\"dataframe\">\n",
       "  <thead>\n",
       "    <tr style=\"text-align: right;\">\n",
       "      <th></th>\n",
       "      <th>ObservationDate</th>\n",
       "      <th>Province</th>\n",
       "      <th>Country</th>\n",
       "      <th>Last Update</th>\n",
       "      <th>Confirmed</th>\n",
       "      <th>Deaths</th>\n",
       "      <th>Recovered</th>\n",
       "    </tr>\n",
       "  </thead>\n",
       "  <tbody>\n",
       "    <tr>\n",
       "      <th>0</th>\n",
       "      <td>2020-01-22</td>\n",
       "      <td>Anhui</td>\n",
       "      <td>Mainland China</td>\n",
       "      <td>1/22/2020 17:00</td>\n",
       "      <td>1.0</td>\n",
       "      <td>0.0</td>\n",
       "      <td>0.0</td>\n",
       "    </tr>\n",
       "    <tr>\n",
       "      <th>1</th>\n",
       "      <td>2020-01-22</td>\n",
       "      <td>Beijing</td>\n",
       "      <td>Mainland China</td>\n",
       "      <td>1/22/2020 17:00</td>\n",
       "      <td>14.0</td>\n",
       "      <td>0.0</td>\n",
       "      <td>0.0</td>\n",
       "    </tr>\n",
       "    <tr>\n",
       "      <th>2</th>\n",
       "      <td>2020-01-22</td>\n",
       "      <td>Chongqing</td>\n",
       "      <td>Mainland China</td>\n",
       "      <td>1/22/2020 17:00</td>\n",
       "      <td>6.0</td>\n",
       "      <td>0.0</td>\n",
       "      <td>0.0</td>\n",
       "    </tr>\n",
       "    <tr>\n",
       "      <th>3</th>\n",
       "      <td>2020-01-22</td>\n",
       "      <td>Fujian</td>\n",
       "      <td>Mainland China</td>\n",
       "      <td>1/22/2020 17:00</td>\n",
       "      <td>1.0</td>\n",
       "      <td>0.0</td>\n",
       "      <td>0.0</td>\n",
       "    </tr>\n",
       "    <tr>\n",
       "      <th>4</th>\n",
       "      <td>2020-01-22</td>\n",
       "      <td>Gansu</td>\n",
       "      <td>Mainland China</td>\n",
       "      <td>1/22/2020 17:00</td>\n",
       "      <td>0.0</td>\n",
       "      <td>0.0</td>\n",
       "      <td>0.0</td>\n",
       "    </tr>\n",
       "  </tbody>\n",
       "</table>\n",
       "</div>"
      ],
      "text/plain": [
       "  ObservationDate   Province         Country      Last Update  Confirmed  \\\n",
       "0      2020-01-22      Anhui  Mainland China  1/22/2020 17:00        1.0   \n",
       "1      2020-01-22    Beijing  Mainland China  1/22/2020 17:00       14.0   \n",
       "2      2020-01-22  Chongqing  Mainland China  1/22/2020 17:00        6.0   \n",
       "3      2020-01-22     Fujian  Mainland China  1/22/2020 17:00        1.0   \n",
       "4      2020-01-22      Gansu  Mainland China  1/22/2020 17:00        0.0   \n",
       "\n",
       "   Deaths  Recovered  \n",
       "0     0.0        0.0  \n",
       "1     0.0        0.0  \n",
       "2     0.0        0.0  \n",
       "3     0.0        0.0  \n",
       "4     0.0        0.0  "
      ]
     },
     "execution_count": 149,
     "metadata": {},
     "output_type": "execute_result"
    }
   ],
   "source": [
    "corona.head()"
   ]
  },
  {
   "cell_type": "markdown",
   "metadata": {},
   "source": [
    "<h3>From the first and last 5 rows I can see that the column \"Last Update\" is having different formats. Not only that, in some cases the 'Last Update' datetime is prior to the \"ObservationDate\" which seems confusing to me. I will have to gather more insights on the columns for understanding that. So for now I am dropping this column.</h3>"
   ]
  },
  {
   "cell_type": "code",
   "execution_count": 150,
   "metadata": {},
   "outputs": [],
   "source": [
    "corona = corona.drop(['Last Update'],axis=1)"
   ]
  },
  {
   "cell_type": "code",
   "execution_count": 151,
   "metadata": {},
   "outputs": [
    {
     "data": {
      "text/plain": [
       "Travis, CA (From Diamond Princess)       1\n",
       "Travis, CA                               1\n",
       "None                                     1\n",
       "Ashland, NE                              1\n",
       "Lackland, TX (From Diamond Princess)     1\n",
       "Lackland, TX                             1\n",
       "Omaha, NE (From Diamond Princess)        1\n",
       "Chicago                                  1\n",
       "Humboldt County, CA                      2\n",
       "Cruise Ship                              2\n",
       "Sacramento County, CA                    2\n",
       "Bavaria                                  4\n",
       "From Diamond Princess                    4\n",
       "Arizona                                  6\n",
       "California                               6\n",
       "Illinois                                 7\n",
       "Ontario                                  9\n",
       "San Antonio, TX                         10\n",
       "Washington                              10\n",
       "San Diego County, CA                    12\n",
       "Diamond Princess cruise ship            14\n",
       "Madison, WI                             18\n",
       "Toronto, ON                             19\n",
       "London, ON                              19\n",
       "San Benito, CA                          20\n",
       "Tempe, AZ                               22\n",
       "Santa Clara, CA                         22\n",
       "Chicago, IL                             22\n",
       "Los Angeles, CA                         22\n",
       "Seattle, WA                             22\n",
       "                                        ..\n",
       "Shandong                                32\n",
       "Jiangxi                                 32\n",
       "Guangdong                               32\n",
       "Hebei                                   32\n",
       "Gansu                                   32\n",
       "Guangxi                                 32\n",
       "Hong Kong                               32\n",
       "Liaoning                                32\n",
       "Inner Mongolia                          32\n",
       "Chongqing                               32\n",
       "Qinghai                                 32\n",
       "Beijing                                 32\n",
       "Hainan                                  32\n",
       "Hunan                                   32\n",
       "Hubei                                   32\n",
       "Yunnan                                  32\n",
       "Xinjiang                                32\n",
       "Shanxi                                  32\n",
       "Ningxia                                 32\n",
       "Macau                                   32\n",
       "Zhejiang                                32\n",
       "Shaanxi                                 32\n",
       "Fujian                                  32\n",
       "Tianjin                                 32\n",
       "Guizhou                                 32\n",
       "Anhui                                   32\n",
       "Henan                                   32\n",
       "Heilongjiang                            32\n",
       "Sichuan                                 32\n",
       "Jilin                                   32\n",
       "Name: Province, Length: 71, dtype: int64"
      ]
     },
     "execution_count": 151,
     "metadata": {},
     "output_type": "execute_result"
    }
   ],
   "source": [
    "corona['Province'].value_counts().sort_values()"
   ]
  },
  {
   "cell_type": "markdown",
   "metadata": {},
   "source": [
    "<b>From the above data it is very clear that the number of provinces affected is huge</b>"
   ]
  },
  {
   "cell_type": "code",
   "execution_count": 152,
   "metadata": {},
   "outputs": [
    {
     "data": {
      "text/plain": [
       "Mexico                    1\n",
       "Brazil                    1\n",
       "Ivory Coast               1\n",
       "Colombia                  1\n",
       "Israel                    2\n",
       "Lebanon                   2\n",
       "Iran                      4\n",
       "Egypt                     9\n",
       "Others                   16\n",
       "Belgium                  19\n",
       "Spain                    22\n",
       "Russia                   23\n",
       "Italy                    23\n",
       "Sweden                   23\n",
       "UK                       23\n",
       "India                    24\n",
       "Philippines              25\n",
       "Finland                  25\n",
       "United Arab Emirates     25\n",
       "Germany                  26\n",
       "Sri Lanka                27\n",
       "Cambodia                 27\n",
       "Nepal                    29\n",
       "Malaysia                 30\n",
       "France                   30\n",
       "Singapore                31\n",
       "Vietnam                  31\n",
       "Thailand                 32\n",
       "Japan                    32\n",
       "Taiwan                   32\n",
       "South Korea              32\n",
       "Macau                    32\n",
       "Hong Kong                32\n",
       "Canada                   73\n",
       "Australia               105\n",
       "US                      254\n",
       "Mainland China          986\n",
       "Name: Country, dtype: int64"
      ]
     },
     "execution_count": 152,
     "metadata": {},
     "output_type": "execute_result"
    }
   ],
   "source": [
    "corona['Country'].value_counts().sort_values()"
   ]
  },
  {
   "cell_type": "code",
   "execution_count": 153,
   "metadata": {},
   "outputs": [
    {
     "data": {
      "text/plain": [
       "2020-01-22    38\n",
       "2020-01-24    41\n",
       "2020-01-25    44\n",
       "2020-01-23    46\n",
       "2020-01-26    47\n",
       "2020-01-27    51\n",
       "2020-01-28    52\n",
       "2020-01-29    54\n",
       "2020-01-30    58\n",
       "2020-01-31    62\n",
       "2020-02-02    67\n",
       "2020-02-01    67\n",
       "2020-02-03    68\n",
       "2020-02-04    70\n",
       "2020-02-06    71\n",
       "2020-02-05    71\n",
       "2020-02-10    72\n",
       "2020-02-08    72\n",
       "2020-02-09    72\n",
       "2020-02-07    72\n",
       "2020-02-12    73\n",
       "2020-02-11    73\n",
       "2020-02-13    74\n",
       "2020-02-18    75\n",
       "2020-02-16    75\n",
       "2020-02-15    75\n",
       "2020-02-14    75\n",
       "2020-02-17    75\n",
       "2020-02-19    76\n",
       "2020-02-20    76\n",
       "2020-02-22    84\n",
       "2020-02-21    84\n",
       "Name: ObservationDate, dtype: int64"
      ]
     },
     "execution_count": 153,
     "metadata": {},
     "output_type": "execute_result"
    }
   ],
   "source": [
    "corona['ObservationDate'].value_counts().sort_values()"
   ]
  },
  {
   "cell_type": "code",
   "execution_count": 154,
   "metadata": {},
   "outputs": [],
   "source": [
    "dates = list(corona['ObservationDate'].dt.day)"
   ]
  },
  {
   "cell_type": "code",
   "execution_count": 155,
   "metadata": {},
   "outputs": [
    {
     "data": {
      "text/plain": [
       "<matplotlib.axes._subplots.AxesSubplot at 0xaccdb00>"
      ]
     },
     "execution_count": 155,
     "metadata": {},
     "output_type": "execute_result"
    },
    {
     "data": {
      "image/png": "[encoded data removed]",
      "text/plain": [
       "<Figure size 432x288 with 1 Axes>"
      ]
     },
     "metadata": {
      "needs_background": "light"
     },
     "output_type": "display_data"
    }
   ],
   "source": [
    "corona.plot(x='ObservationDate',y='Confirmed')"
   ]
  },
  {
   "cell_type": "markdown",
   "metadata": {},
   "source": [
    "<h3>The confirmation rate has spiked up suddenly from 11-02-2020 which seems suspicious. Maybe they were not realeasing all the stats for a long time due to time consumption in confirmation and finally they released it all at once.</h3>"
   ]
  },
  {
   "cell_type": "code",
   "execution_count": 156,
   "metadata": {},
   "outputs": [
    {
     "data": {
      "image/png": "[encoded data removed]",
      "text/plain": [
       "<Figure size 432x288 with 1 Axes>"
      ]
     },
     "metadata": {
      "needs_background": "light"
     },
     "output_type": "display_data"
    }
   ],
   "source": [
    "ax = corona.plot(x='ObservationDate',y='Deaths')"
   ]
  },
  {
   "cell_type": "code",
   "execution_count": 157,
   "metadata": {},
   "outputs": [
    {
     "data": {
      "text/plain": [
       "<matplotlib.axes._subplots.AxesSubplot at 0xadce0f0>"
      ]
     },
     "execution_count": 157,
     "metadata": {},
     "output_type": "execute_result"
    },
    {
     "data": {
      "image/png": "[encoded data removed]",
      "text/plain": [
       "<Figure size 432x288 with 1 Axes>"
      ]
     },
     "metadata": {
      "needs_background": "light"
     },
     "output_type": "display_data"
    }
   ],
   "source": [
    "corona.plot(x='ObservationDate',y='Recovered')"
   ]
  },
  {
   "cell_type": "code",
   "execution_count": 158,
   "metadata": {},
   "outputs": [
    {
     "data": {
      "text/plain": [
       "<matplotlib.axes._subplots.AxesSubplot at 0xae4df98>"
      ]
     },
     "execution_count": 158,
     "metadata": {},
     "output_type": "execute_result"
    },
    {
     "data": {
      "image/png": "[encoded data removed]",
      "text/plain": [
       "<Figure size 432x288 with 1 Axes>"
      ]
     },
     "metadata": {
      "needs_background": "light"
     },
     "output_type": "display_data"
    }
   ],
   "source": [
    "corona[:10].plot.bar(x='Country',y=['Confirmed','Deaths','Recovered'])"
   ]
  },
  {
   "cell_type": "code",
   "execution_count": 159,
   "metadata": {},
   "outputs": [],
   "source": [
    "all_country_recovery = {}\n",
    "all_country_death = {}\n",
    "for country in corona['Country']:\n",
    "    if country not in all_country_recovery and country != 'Mainland China':\n",
    "        all_country_recovery[country] = corona.loc[corona['Country']==country,'Recovered'].sum()\n",
    "        all_country_death[country] = corona.loc[corona['Country']==country,'Deaths'].sum()"
   ]
  },
  {
   "cell_type": "code",
   "execution_count": 160,
   "metadata": {},
   "outputs": [
    {
     "data": {
      "text/plain": [
       "dict_values([32.0, 55.0, 26.0, 46.0, 184.0, 253.0, 132.0, 293.0, 11.0, 110.0, 106.0, 122.0, 0.0, 0.0, 0.0, 38.0, 11.0, 15.0, 11.0, 15.0, 0.0, 69.0, 11.0, 34.0, 21.0, 1.0, 60.0, 22.0, 0.0, 16.0, 6.0, 4.0, 0.0, 0.0, 0.0, 0.0])"
      ]
     },
     "execution_count": 160,
     "metadata": {},
     "output_type": "execute_result"
    }
   ],
   "source": [
    "all_country_recovery.values()"
   ]
  },
  {
   "cell_type": "code",
   "execution_count": 161,
   "metadata": {},
   "outputs": [
    {
     "data": {
      "text/plain": [
       "dict_values([23.0, 0.0, 7.0, 0.0, 10.0, 0.0, 5.0, 0.0, 21.0, 0.0, 0.0, 0.0, 0.0, 0.0, 0.0, 8.0, 0.0, 0.0, 0.0, 0.0, 0.0, 0.0, 0.0, 0.0, 0.0, 3.0, 0.0, 0.0, 0.0, 0.0, 0.0, 6.0, 0.0, 13.0, 0.0, 0.0])"
      ]
     },
     "execution_count": 161,
     "metadata": {},
     "output_type": "execute_result"
    }
   ],
   "source": [
    "all_country_death.values()"
   ]
  },
  {
   "cell_type": "code",
   "execution_count": 162,
   "metadata": {},
   "outputs": [
    {
     "data": {
      "image/png": "[encoded data removed]",
      "text/plain": [
       "<Figure size 432x288 with 1 Axes>"
      ]
     },
     "metadata": {
      "needs_background": "light"
     },
     "output_type": "display_data"
    }
   ],
   "source": [
    "plt.scatter(all_country_death.values(),all_country_recovery.values())\n",
    "plt.xlabel('Deaths a/c country')\n",
    "plt.ylabel('Recovery a/c country')\n",
    "plt.show()"
   ]
  },
  {
   "cell_type": "markdown",
   "metadata": {},
   "source": [
    "<h2>I tried creating a scatter plot between the recovery and death cases for different countries. But it does not seem possible because of Maniland China being an extraordinary outlier. So I removed that country and plotted it.</h2>"
   ]
  },
  {
   "cell_type": "code",
   "execution_count": 163,
   "metadata": {},
   "outputs": [],
   "source": [
    "all_province_recovery = {}\n",
    "all_province_death = {}\n",
    "for province in corona['Province']:\n",
    "    if province not in all_province_recovery and province != 'Hubei':\n",
    "        all_province_recovery[province] = corona.loc[corona['Province']==province,'Recovered'].sum()\n",
    "        all_province_death[province] = corona.loc[corona['Province']==province,'Deaths'].sum()"
   ]
  },
  {
   "cell_type": "code",
   "execution_count": 164,
   "metadata": {},
   "outputs": [
    {
     "data": {
      "text/plain": [
       "{'Anhui': 4098.0,\n",
       " 'Beijing': 1620.0,\n",
       " 'Chongqing': 2805.0,\n",
       " 'Fujian': 1250.0,\n",
       " 'Gansu': 720.0,\n",
       " 'Guangdong': 6541.0,\n",
       " 'Guangxi': 858.0,\n",
       " 'Guizhou': 666.0,\n",
       " 'Hainan': 809.0,\n",
       " 'Hebei': 1585.0,\n",
       " 'Heilongjiang': 1211.0,\n",
       " 'Henan': 6466.0,\n",
       " 'Hong Kong': 32.0,\n",
       " 'Hunan': 6594.0,\n",
       " 'Inner Mongolia': 155.0,\n",
       " 'Jiangsu': 3251.0,\n",
       " 'Jiangxi': 3932.0,\n",
       " 'Jilin': 437.0,\n",
       " 'Liaoning': 555.0,\n",
       " 'Macau': 55.0,\n",
       " 'Ningxia': 469.0,\n",
       " 'Qinghai': 176.0,\n",
       " 'Shaanxi': 1086.0,\n",
       " 'Shandong': 2495.0,\n",
       " 'Shanghai': 1960.0,\n",
       " 'Shanxi': 766.0,\n",
       " 'Sichuan': 2209.0,\n",
       " 'Taiwan': 26.0,\n",
       " 'Tianjin': 515.0,\n",
       " 'Tibet': 11.0,\n",
       " 'Washington': 0.0,\n",
       " 'Xinjiang': 155.0,\n",
       " 'Yunnan': 733.0,\n",
       " 'Zhejiang': 7014.0,\n",
       " nan: 0.0,\n",
       " 'Chicago': 0.0,\n",
       " 'Illinois': 0.0,\n",
       " 'California': 0.0,\n",
       " 'Arizona': 0.0,\n",
       " 'Ontario': 0.0,\n",
       " 'New South Wales': 68.0,\n",
       " 'Victoria': 40.0,\n",
       " 'British Columbia': 0.0,\n",
       " 'Bavaria': 0.0,\n",
       " 'Queensland': 2.0,\n",
       " 'Chicago, IL': 28.0,\n",
       " 'South Australia': 12.0,\n",
       " 'Boston, MA': 0.0,\n",
       " 'Los Angeles, CA': 0.0,\n",
       " 'Orange, CA': 0.0,\n",
       " 'Santa Clara, CA': 2.0,\n",
       " 'Seattle, WA': 14.0,\n",
       " 'Tempe, AZ': 0.0,\n",
       " 'San Benito, CA': 0.0,\n",
       " 'Toronto, ON': 4.0,\n",
       " 'London, ON': 11.0,\n",
       " 'Madison, WI': 0.0,\n",
       " 'Cruise Ship': 0.0,\n",
       " 'Diamond Princess cruise ship': 4.0,\n",
       " 'San Diego County, CA': 2.0,\n",
       " 'San Antonio, TX': 0.0,\n",
       " 'Ashland, NE': 0.0,\n",
       " 'Travis, CA': 0.0,\n",
       " 'From Diamond Princess': 0.0,\n",
       " 'Lackland, TX': 0.0,\n",
       " 'None': 0.0,\n",
       " 'Humboldt County, CA': 0.0,\n",
       " 'Sacramento County, CA': 0.0,\n",
       " 'Omaha, NE (From Diamond Princess)': 0.0,\n",
       " 'Travis, CA (From Diamond Princess)': 0.0,\n",
       " 'Lackland, TX (From Diamond Princess)': 0.0}"
      ]
     },
     "execution_count": 164,
     "metadata": {},
     "output_type": "execute_result"
    }
   ],
   "source": [
    "all_province_recovery"
   ]
  },
  {
   "cell_type": "code",
   "execution_count": 165,
   "metadata": {},
   "outputs": [
    {
     "data": {
      "image/png": "[encoded data removed]",
      "text/plain": [
       "<Figure size 432x288 with 1 Axes>"
      ]
     },
     "metadata": {
      "needs_background": "light"
     },
     "output_type": "display_data"
    }
   ],
   "source": [
    "plt.scatter(all_province_death.values(),all_province_recovery.values())\n",
    "plt.xlabel('Deaths a/c province')\n",
    "plt.ylabel('Recovery a/c province')\n",
    "plt.show()"
   ]
  },
  {
   "cell_type": "markdown",
   "metadata": {},
   "source": [
    "<h2>In the case of various provinces Hubei was being the outlier. So I created the scatter plot excluding that value</h2>"
   ]
  },
  {
   "cell_type": "markdown",
   "metadata": {},
   "source": [
    "<h2>I tried getting scatter plots related to the 'Confirmed' column values but all their sums was resulting to infinity and so couldn't use it.</h2>"
   ]
  },
  {
   "cell_type": "code",
   "execution_count": null,
   "metadata": {},
   "outputs": [],
   "source": []
  }
 ],
 "metadata": {
  "kernelspec": {
   "display_name": "Python 3",
   "language": "python",
   "name": "python3"
  },
  "language_info": {
   "codemirror_mode": {
    "name": "ipython",
    "version": 3
   },
   "file_extension": ".py",
   "mimetype": "text/x-python",
   "name": "python",
   "nbconvert_exporter": "python",
   "pygments_lexer": "ipython3",
   "version": "3.7.1"
  }
 },
 "nbformat": 4,
 "nbformat_minor": 2
}
